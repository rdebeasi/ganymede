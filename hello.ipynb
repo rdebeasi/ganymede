{
 "cells": [
  {
   "cell_type": "markdown",
   "metadata": {},
   "source": [
    "# Mapping test\n",
    "Working from the [mapboxgl-jupyter demo](https://www.mapbox.com/labs/jupyter/)"
   ]
  },
  {
   "cell_type": "code",
   "execution_count": null,
   "metadata": {
    "scrolled": true
   },
   "outputs": [],
   "source": [
    "%%bash\n",
    "pip install mapboxgl\n",
    "pip install pandas\n",
    "pip install pysal\n",
    "## TODO: Move this installation to the docker image, or switch to an image wit this lib already installed."
   ]
  },
  {
   "cell_type": "code",
   "execution_count": 16,
   "metadata": {},
   "outputs": [
    {
     "data": {
      "text/html": [
       "<div>\n",
       "<style scoped>\n",
       "    .dataframe tbody tr th:only-of-type {\n",
       "        vertical-align: middle;\n",
       "    }\n",
       "\n",
       "    .dataframe tbody tr th {\n",
       "        vertical-align: top;\n",
       "    }\n",
       "\n",
       "    .dataframe thead th {\n",
       "        text-align: right;\n",
       "    }\n",
       "</style>\n",
       "<table border=\"1\" class=\"dataframe\">\n",
       "  <thead>\n",
       "    <tr style=\"text-align: right;\">\n",
       "      <th></th>\n",
       "      <th>Avg Total Payments</th>\n",
       "      <th>Avg Covered Charges</th>\n",
       "      <th>Total Discharges</th>\n",
       "      <th>Avg Medicare Payments</th>\n",
       "      <th>admin1_id</th>\n",
       "      <th>Provider Id</th>\n",
       "      <th>admin2_id</th>\n",
       "      <th>longitude</th>\n",
       "      <th>latitude</th>\n",
       "    </tr>\n",
       "  </thead>\n",
       "  <tbody>\n",
       "    <tr>\n",
       "      <th>0</th>\n",
       "      <td>8749.03</td>\n",
       "      <td>35247.03</td>\n",
       "      <td>58.75</td>\n",
       "      <td>7678.21</td>\n",
       "      <td>USA101</td>\n",
       "      <td>10001</td>\n",
       "      <td>USA201069</td>\n",
       "      <td>-85.36</td>\n",
       "      <td>31.22</td>\n",
       "    </tr>\n",
       "    <tr>\n",
       "      <th>1</th>\n",
       "      <td>6812.13</td>\n",
       "      <td>16451.09</td>\n",
       "      <td>28.96</td>\n",
       "      <td>5793.63</td>\n",
       "      <td>USA101</td>\n",
       "      <td>10005</td>\n",
       "      <td>USA201119</td>\n",
       "      <td>-88.14</td>\n",
       "      <td>32.45</td>\n",
       "    </tr>\n",
       "    <tr>\n",
       "      <th>2</th>\n",
       "      <td>8197.24</td>\n",
       "      <td>36942.36</td>\n",
       "      <td>45.36</td>\n",
       "      <td>7145.96</td>\n",
       "      <td>USA101</td>\n",
       "      <td>10006</td>\n",
       "      <td>USA201077</td>\n",
       "      <td>-87.68</td>\n",
       "      <td>34.79</td>\n",
       "    </tr>\n",
       "  </tbody>\n",
       "</table>\n",
       "</div>"
      ],
      "text/plain": [
       "   Avg Total Payments  Avg Covered Charges  Total Discharges  \\\n",
       "0             8749.03             35247.03             58.75   \n",
       "1             6812.13             16451.09             28.96   \n",
       "2             8197.24             36942.36             45.36   \n",
       "\n",
       "   Avg Medicare Payments admin1_id  Provider Id  admin2_id  longitude  \\\n",
       "0                7678.21    USA101        10001  USA201069     -85.36   \n",
       "1                5793.63    USA101        10005  USA201119     -88.14   \n",
       "2                7145.96    USA101        10006  USA201077     -87.68   \n",
       "\n",
       "   latitude  \n",
       "0     31.22  \n",
       "1     32.45  \n",
       "2     34.79  "
      ]
     },
     "execution_count": 16,
     "metadata": {},
     "output_type": "execute_result"
    }
   ],
   "source": [
    "import pysal.esda.mapclassify as mapclassify\n",
    "import pandas as pd\n",
    "import os\n",
    "from mapboxgl.utils import *\n",
    "from mapboxgl.viz import *\n",
    "\n",
    "df = pd.read_csv('points.csv').round(2)\n",
    "df.rename(index=str, columns={\"lon\": \"longitude\", \"lat\": \"latitude\"}, inplace=True)\n",
    "df.head(3)\n"
   ]
  },
  {
   "cell_type": "code",
   "execution_count": null,
   "metadata": {},
   "outputs": [],
   "source": []
  }
 ],
 "metadata": {
  "kernelspec": {
   "display_name": "Python 3",
   "language": "python",
   "name": "python3"
  },
  "language_info": {
   "codemirror_mode": {
    "name": "ipython",
    "version": 3
   },
   "file_extension": ".py",
   "mimetype": "text/x-python",
   "name": "python",
   "nbconvert_exporter": "python",
   "pygments_lexer": "ipython3",
   "version": "3.5.1"
  }
 },
 "nbformat": 4,
 "nbformat_minor": 2
}
